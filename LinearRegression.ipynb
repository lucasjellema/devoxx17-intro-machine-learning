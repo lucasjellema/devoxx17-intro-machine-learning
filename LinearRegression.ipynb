{
 "cells": [
  {
   "cell_type": "markdown",
   "metadata": {},
   "source": [
    "This notebook investigates a somewhat mysterious data set that we have been handed. The question is if this data set contains information? Can we find correlations between the features in the data records? And if so, can we deduce somehow what the features represent and what the correlation means? Can we find a (linear regression) model that can help us predict future values of a target feature based on known values for predictor features? "
   ]
  },
  {
   "cell_type": "code",
   "execution_count": 32,
   "metadata": {
    "collapsed": true
   },
   "outputs": [],
   "source": [
    "# imports\n",
    "import pandas as pd\n",
    "import matplotlib.pyplot as plt\n",
    "\n",
    "# this allows plots to appear directly in the notebook\n",
    "%matplotlib inline"
   ]
  },
  {
   "cell_type": "markdown",
   "metadata": {},
   "source": [
    "The data set we will investigate can be found on GitHub. We can download it into a Pandas Data Frame in our Python Notebook Kernel."
   ]
  },
  {
   "cell_type": "code",
   "execution_count": 33,
   "metadata": {
    "collapsed": false
   },
   "outputs": [
    {
     "data": {
      "text/html": [
       "<div>\n",
       "<table border=\"1\" class=\"dataframe\">\n",
       "  <thead>\n",
       "    <tr style=\"text-align: right;\">\n",
       "      <th></th>\n",
       "      <th>A</th>\n",
       "      <th>B</th>\n",
       "      <th>C</th>\n",
       "      <th>D</th>\n",
       "      <th>E</th>\n",
       "      <th>F</th>\n",
       "      <th>G</th>\n",
       "    </tr>\n",
       "  </thead>\n",
       "  <tbody>\n",
       "    <tr>\n",
       "      <th>0</th>\n",
       "      <td>1104534</td>\n",
       "      <td>ZTR</td>\n",
       "      <td>0.1</td>\n",
       "      <td>anijs</td>\n",
       "      <td>2</td>\n",
       "      <td>36</td>\n",
       "      <td>T</td>\n",
       "    </tr>\n",
       "    <tr>\n",
       "      <th>1</th>\n",
       "      <td>631148</td>\n",
       "      <td>ESE</td>\n",
       "      <td>132.0</td>\n",
       "      <td>rivier</td>\n",
       "      <td>0</td>\n",
       "      <td>21</td>\n",
       "      <td>S</td>\n",
       "    </tr>\n",
       "    <tr>\n",
       "      <th>2</th>\n",
       "      <td>-3</td>\n",
       "      <td>WGN</td>\n",
       "      <td>71.0</td>\n",
       "      <td>appel</td>\n",
       "      <td>0</td>\n",
       "      <td>1</td>\n",
       "      <td>-</td>\n",
       "    </tr>\n",
       "    <tr>\n",
       "      <th>3</th>\n",
       "      <td>1262300</td>\n",
       "      <td>ZTR</td>\n",
       "      <td>56.0</td>\n",
       "      <td>zes</td>\n",
       "      <td>2</td>\n",
       "      <td>41</td>\n",
       "      <td>T</td>\n",
       "    </tr>\n",
       "    <tr>\n",
       "      <th>4</th>\n",
       "      <td>315529</td>\n",
       "      <td>HVN</td>\n",
       "      <td>1290.0</td>\n",
       "      <td>hamer</td>\n",
       "      <td>0</td>\n",
       "      <td>11</td>\n",
       "      <td>-</td>\n",
       "    </tr>\n",
       "  </tbody>\n",
       "</table>\n",
       "</div>"
      ],
      "text/plain": [
       "         A    B       C       D  E   F  G\n",
       "0  1104534  ZTR     0.1   anijs  2  36  T\n",
       "1   631148  ESE   132.0  rivier  0  21  S\n",
       "2       -3  WGN    71.0   appel  0   1  -\n",
       "3  1262300  ZTR    56.0     zes  2  41  T\n",
       "4   315529  HVN  1290.0   hamer  0  11  -"
      ]
     },
     "execution_count": 33,
     "metadata": {},
     "output_type": "execute_result"
    }
   ],
   "source": [
    "# read data into a DataFrame\n",
    "data = pd.read_csv('https://raw.githubusercontent.com/lucasjellema/theArtOfMachineLearning/master/linearRegression.csv',  sep=';')\n",
    "data.head()"
   ]
  },
  {
   "cell_type": "code",
   "execution_count": 34,
   "metadata": {
    "collapsed": false
   },
   "outputs": [
    {
     "data": {
      "text/plain": [
       "(10, 7)"
      ]
     },
     "execution_count": 34,
     "metadata": {},
     "output_type": "execute_result"
    }
   ],
   "source": [
    "# print the shape of the DataFrame\n",
    "data.shape"
   ]
  },
  {
   "cell_type": "markdown",
   "metadata": {},
   "source": [
    "Let's see if visualizing the data in scatter plots gives us some insight. We randomly plot features against each other, hoping that we will see some form of correlation appearing in the visuals (this only works with a small number of features obviously). If we want to learn about dependencies between more than two or three features, we need mathematics instead of pretty pictures."
   ]
  },
  {
   "cell_type": "code",
   "execution_count": 35,
   "metadata": {
    "collapsed": false
   },
   "outputs": [
    {
     "data": {
      "text/plain": [
       "<matplotlib.axes._subplots.AxesSubplot at 0x7f0179fd3be0>"
      ]
     },
     "execution_count": 35,
     "metadata": {},
     "output_type": "execute_result"
    },
    {
     "data": {
      "image/png": "[encoded data removed]",
      "text/plain": [
       "<matplotlib.figure.Figure at 0x7f017a086cf8>"
      ]
     },
     "metadata": {},
     "output_type": "display_data"
    }
   ],
   "source": [
    "# visualize the relationship between the features and the response using scatterplots\n",
    "fig, axs = plt.subplots(1, 3, sharey=False)\n",
    "data.plot(kind='scatter', x='C', y='F', ax=axs[0], figsize=(16, 8))\n",
    "data.plot(kind='scatter', x='A', y='C', ax=axs[1])\n",
    "data.plot(kind='scatter', x='E', y='C', ax=axs[2])"
   ]
  },
  {
   "cell_type": "markdown",
   "metadata": {},
   "source": [
    "Mmmm, these plots do not really tell much of a story yet. Let's see two more combinations of features:"
   ]
  },
  {
   "cell_type": "code",
   "execution_count": 36,
   "metadata": {
    "collapsed": false
   },
   "outputs": [
    {
     "data": {
      "text/plain": [
       "<matplotlib.axes._subplots.AxesSubplot at 0x7f0179e84710>"
      ]
     },
     "execution_count": 36,
     "metadata": {},
     "output_type": "execute_result"
    },
    {
     "data": {
      "image/png": "[encoded data removed]",
      "text/plain": [
       "<matplotlib.figure.Figure at 0x7f0179f11048>"
      ]
     },
     "metadata": {},
     "output_type": "display_data"
    }
   ],
   "source": [
    "# visualize the relationship between the features and the response using scatterplots\n",
    "fig, axs = plt.subplots(1, 2, sharey=False)\n",
    "data.plot(kind='scatter', x='A', y='F', ax=axs[0], figsize=(16, 8))\n",
    "data.plot(kind='scatter', x='C', y='F', ax=axs[1])\n"
   ]
  },
  {
   "cell_type": "markdown",
   "metadata": {},
   "source": [
    "Ah - now we are talking! There is a clear correlation between feature A and F. Whether A drives F, F drives A or the two describe essentially the same underlying value is not yet clear. However, we have a lead to investigate!"
   ]
  },
  {
   "cell_type": "markdown",
   "metadata": {},
   "source": [
    "\n",
    "Simple Linear Regression\n",
    "\n",
    "Simple linear regression is an approach for predicting a quantitative response using a single feature (or \"predictor\" or \"input variable\"). It takes the following form:\n",
    "\n",
    "$y = \\beta_0 + \\beta_1x$\n",
    "\n",
    "What does each term represent?\n",
    "\n",
    "    $y$ is the response\n",
    "    $x$ is the feature\n",
    "    $\\beta_0$ is the intercept\n",
    "    $\\beta_1$ is the coefficient for x\n",
    "\n",
    "Together, $\\beta_0$ and $\\beta_1$ are called the model coefficients. To create your model, you must \"learn\" the values of these coefficients. And once we've learned these coefficients, we can use the model to predict F!\n"
   ]
  },
  {
   "cell_type": "markdown",
   "metadata": {},
   "source": [
    "We can now try to determine the simple linear regression model that fits these data points. We do so using the StatsModels library, one of many at our disposal in Python."
   ]
  },
  {
   "cell_type": "code",
   "execution_count": 37,
   "metadata": {
    "collapsed": false
   },
   "outputs": [
    {
     "data": {
      "text/plain": [
       "Intercept    1.000269\n",
       "A            0.000032\n",
       "dtype: float64"
      ]
     },
     "execution_count": 37,
     "metadata": {},
     "output_type": "execute_result"
    }
   ],
   "source": [
    "# this is the standard import if you're using \"formula notation\" (similar to R)\n",
    "import statsmodels.formula.api as smf\n",
    "\n",
    "# create a fitted model in one line\n",
    "lm = smf.ols(formula='F ~ A', data=data).fit()\n",
    "\n",
    "# print the coefficients\n",
    "lm.params"
   ]
  },
  {
   "cell_type": "markdown",
   "metadata": {},
   "source": [
    "The model found looks like:\n",
    "\n",
    "Feature F = 1 + 0.000032 * Feature A\n",
    "\n",
    "That does not necessarily tell us a lot. Let's see how closely this model fits the data. "
   ]
  },
  {
   "cell_type": "code",
   "execution_count": 38,
   "metadata": {
    "collapsed": false
   },
   "outputs": [
    {
     "name": "stderr",
     "output_type": "stream",
     "text": [
      "/home/python/anaconda3/lib/python3.6/site-packages/scipy/stats/stats.py:1327: UserWarning: kurtosistest only valid for n>=20 ... continuing anyway, n=10\n",
      "  \"anyway, n=%i\" % int(n))\n"
     ]
    },
    {
     "data": {
      "text/html": [
       "<table class=\"simpletable\">\n",
       "<caption>OLS Regression Results</caption>\n",
       "<tr>\n",
       "  <th>Dep. Variable:</th>            <td>F</td>        <th>  R-squared:         </th> <td>   1.000</td> \n",
       "</tr>\n",
       "<tr>\n",
       "  <th>Model:</th>                   <td>OLS</td>       <th>  Adj. R-squared:    </th> <td>   1.000</td> \n",
       "</tr>\n",
       "<tr>\n",
       "  <th>Method:</th>             <td>Least Squares</td>  <th>  F-statistic:       </th> <td>2.634e+09</td>\n",
       "</tr>\n",
       "<tr>\n",
       "  <th>Date:</th>             <td>Wed, 14 Jun 2017</td> <th>  Prob (F-statistic):</th> <td>2.33e-35</td> \n",
       "</tr>\n",
       "<tr>\n",
       "  <th>Time:</th>                 <td>13:13:24</td>     <th>  Log-Likelihood:    </th> <td>  57.645</td> \n",
       "</tr>\n",
       "<tr>\n",
       "  <th>No. Observations:</th>      <td>    10</td>      <th>  AIC:               </th> <td>  -111.3</td> \n",
       "</tr>\n",
       "<tr>\n",
       "  <th>Df Residuals:</th>          <td>     8</td>      <th>  BIC:               </th> <td>  -110.7</td> \n",
       "</tr>\n",
       "<tr>\n",
       "  <th>Df Model:</th>              <td>     1</td>      <th>                     </th>     <td> </td>    \n",
       "</tr>\n",
       "<tr>\n",
       "  <th>Covariance Type:</th>      <td>nonrobust</td>    <th>                     </th>     <td> </td>    \n",
       "</tr>\n",
       "</table>\n",
       "<table class=\"simpletable\">\n",
       "<tr>\n",
       "      <td></td>         <th>coef</th>     <th>std err</th>      <th>t</th>      <th>P>|t|</th> <th>[95.0% Conf. Int.]</th> \n",
       "</tr>\n",
       "<tr>\n",
       "  <th>Intercept</th> <td>    1.0003</td> <td>    0.000</td> <td> 2272.870</td> <td> 0.000</td> <td>    0.999     1.001</td>\n",
       "</tr>\n",
       "<tr>\n",
       "  <th>A</th>         <td> 3.169e-05</td> <td> 6.17e-10</td> <td> 5.13e+04</td> <td> 0.000</td> <td> 3.17e-05  3.17e-05</td>\n",
       "</tr>\n",
       "</table>\n",
       "<table class=\"simpletable\">\n",
       "<tr>\n",
       "  <th>Omnibus:</th>       <td> 1.459</td> <th>  Durbin-Watson:     </th> <td>   1.296</td>\n",
       "</tr>\n",
       "<tr>\n",
       "  <th>Prob(Omnibus):</th> <td> 0.482</td> <th>  Jarque-Bera (JB):  </th> <td>   0.800</td>\n",
       "</tr>\n",
       "<tr>\n",
       "  <th>Skew:</th>          <td> 0.269</td> <th>  Prob(JB):          </th> <td>   0.670</td>\n",
       "</tr>\n",
       "<tr>\n",
       "  <th>Kurtosis:</th>      <td> 1.722</td> <th>  Cond. No.          </th> <td>1.17e+06</td>\n",
       "</tr>\n",
       "</table>"
      ],
      "text/plain": [
       "<class 'statsmodels.iolib.summary.Summary'>\n",
       "\"\"\"\n",
       "                            OLS Regression Results                            \n",
       "==============================================================================\n",
       "Dep. Variable:                      F   R-squared:                       1.000\n",
       "Model:                            OLS   Adj. R-squared:                  1.000\n",
       "Method:                 Least Squares   F-statistic:                 2.634e+09\n",
       "Date:                Wed, 14 Jun 2017   Prob (F-statistic):           2.33e-35\n",
       "Time:                        13:13:24   Log-Likelihood:                 57.645\n",
       "No. Observations:                  10   AIC:                            -111.3\n",
       "Df Residuals:                       8   BIC:                            -110.7\n",
       "Df Model:                           1                                         \n",
       "Covariance Type:            nonrobust                                         \n",
       "==============================================================================\n",
       "                 coef    std err          t      P>|t|      [95.0% Conf. Int.]\n",
       "------------------------------------------------------------------------------\n",
       "Intercept      1.0003      0.000   2272.870      0.000         0.999     1.001\n",
       "A           3.169e-05   6.17e-10   5.13e+04      0.000      3.17e-05  3.17e-05\n",
       "==============================================================================\n",
       "Omnibus:                        1.459   Durbin-Watson:                   1.296\n",
       "Prob(Omnibus):                  0.482   Jarque-Bera (JB):                0.800\n",
       "Skew:                           0.269   Prob(JB):                        0.670\n",
       "Kurtosis:                       1.722   Cond. No.                     1.17e+06\n",
       "==============================================================================\n",
       "\n",
       "Warnings:\n",
       "[1] Standard Errors assume that the covariance matrix of the errors is correctly specified.\n",
       "[2] The condition number is large, 1.17e+06. This might indicate that there are\n",
       "strong multicollinearity or other numerical problems.\n",
       "\"\"\""
      ]
     },
     "execution_count": 38,
     "metadata": {},
     "output_type": "execute_result"
    }
   ],
   "source": [
    "# print a summary of the fitted model\n",
    "lm.summary()"
   ]
  },
  {
   "cell_type": "markdown",
   "metadata": {},
   "source": [
    "This means the fit is pretty tight - although the data set is too small to be overly confident.\n",
    "\n",
    "We can predict the value of F for a given value of feature A (1630050)"
   ]
  },
  {
   "cell_type": "code",
   "execution_count": 39,
   "metadata": {
    "collapsed": false
   },
   "outputs": [
    {
     "data": {
      "text/html": [
       "<div>\n",
       "<table border=\"1\" class=\"dataframe\">\n",
       "  <thead>\n",
       "    <tr style=\"text-align: right;\">\n",
       "      <th></th>\n",
       "      <th>A</th>\n",
       "    </tr>\n",
       "  </thead>\n",
       "  <tbody>\n",
       "    <tr>\n",
       "      <th>0</th>\n",
       "      <td>1630050</td>\n",
       "    </tr>\n",
       "  </tbody>\n",
       "</table>\n",
       "</div>"
      ],
      "text/plain": [
       "         A\n",
       "0  1630050"
      ]
     },
     "execution_count": 39,
     "metadata": {},
     "output_type": "execute_result"
    }
   ],
   "source": [
    "# you have to create a DataFrame since the Statsmodels formula interface expects it\n",
    "X_new = pd.DataFrame({'A': [1630050]})\n",
    "X_new.head()"
   ]
  },
  {
   "cell_type": "code",
   "execution_count": 40,
   "metadata": {
    "collapsed": false
   },
   "outputs": [
    {
     "data": {
      "text/plain": [
       "array([ 52.6535966])"
      ]
     },
     "execution_count": 40,
     "metadata": {},
     "output_type": "execute_result"
    }
   ],
   "source": [
    "lm.predict(X_new)"
   ]
  },
  {
   "cell_type": "markdown",
   "metadata": {},
   "source": [
    "However, what this means is not yet very clear.\n",
    "\n",
    "Then we have an insight, one of those Eureka moment in the Data Science Lab:"
   ]
  },
  {
   "cell_type": "markdown",
   "metadata": {},
   "source": [
    "Column A contains number of kiloseconds since 1970. Of course, we should have know!\n",
    "\n",
    "We can make this clearer by adding a column to the data set:"
   ]
  },
  {
   "cell_type": "code",
   "execution_count": 41,
   "metadata": {
    "collapsed": false
   },
   "outputs": [
    {
     "data": {
      "text/html": [
       "<div>\n",
       "<table border=\"1\" class=\"dataframe\">\n",
       "  <thead>\n",
       "    <tr style=\"text-align: right;\">\n",
       "      <th></th>\n",
       "      <th>A</th>\n",
       "      <th>B</th>\n",
       "      <th>C</th>\n",
       "      <th>D</th>\n",
       "      <th>E</th>\n",
       "      <th>F</th>\n",
       "      <th>G</th>\n",
       "      <th>Years_Since_1970</th>\n",
       "    </tr>\n",
       "  </thead>\n",
       "  <tbody>\n",
       "    <tr>\n",
       "      <th>0</th>\n",
       "      <td>1104534</td>\n",
       "      <td>ZTR</td>\n",
       "      <td>0.1</td>\n",
       "      <td>anijs</td>\n",
       "      <td>2</td>\n",
       "      <td>36</td>\n",
       "      <td>T</td>\n",
       "      <td>35.024543</td>\n",
       "    </tr>\n",
       "    <tr>\n",
       "      <th>1</th>\n",
       "      <td>631148</td>\n",
       "      <td>ESE</td>\n",
       "      <td>132.0</td>\n",
       "      <td>rivier</td>\n",
       "      <td>0</td>\n",
       "      <td>21</td>\n",
       "      <td>S</td>\n",
       "      <td>20.013572</td>\n",
       "    </tr>\n",
       "    <tr>\n",
       "      <th>2</th>\n",
       "      <td>-3</td>\n",
       "      <td>WGN</td>\n",
       "      <td>71.0</td>\n",
       "      <td>appel</td>\n",
       "      <td>0</td>\n",
       "      <td>1</td>\n",
       "      <td>-</td>\n",
       "      <td>-0.000095</td>\n",
       "    </tr>\n",
       "    <tr>\n",
       "      <th>3</th>\n",
       "      <td>1262300</td>\n",
       "      <td>ZTR</td>\n",
       "      <td>56.0</td>\n",
       "      <td>zes</td>\n",
       "      <td>2</td>\n",
       "      <td>41</td>\n",
       "      <td>T</td>\n",
       "      <td>40.027270</td>\n",
       "    </tr>\n",
       "    <tr>\n",
       "      <th>4</th>\n",
       "      <td>315529</td>\n",
       "      <td>HVN</td>\n",
       "      <td>1290.0</td>\n",
       "      <td>hamer</td>\n",
       "      <td>0</td>\n",
       "      <td>11</td>\n",
       "      <td>-</td>\n",
       "      <td>10.005359</td>\n",
       "    </tr>\n",
       "    <tr>\n",
       "      <th>5</th>\n",
       "      <td>788914</td>\n",
       "      <td>ASM</td>\n",
       "      <td>676.0</td>\n",
       "      <td>zwaluw</td>\n",
       "      <td>0</td>\n",
       "      <td>26</td>\n",
       "      <td>T</td>\n",
       "      <td>25.016299</td>\n",
       "    </tr>\n",
       "    <tr>\n",
       "      <th>6</th>\n",
       "      <td>157762</td>\n",
       "      <td>HVN</td>\n",
       "      <td>9482.0</td>\n",
       "      <td>wie</td>\n",
       "      <td>0</td>\n",
       "      <td>6</td>\n",
       "      <td>-</td>\n",
       "      <td>5.002600</td>\n",
       "    </tr>\n",
       "    <tr>\n",
       "      <th>7</th>\n",
       "      <td>946681</td>\n",
       "      <td>DHG</td>\n",
       "      <td>42.0</td>\n",
       "      <td>rond</td>\n",
       "      <td>1</td>\n",
       "      <td>31</td>\n",
       "      <td>T</td>\n",
       "      <td>30.019058</td>\n",
       "    </tr>\n",
       "    <tr>\n",
       "      <th>8</th>\n",
       "      <td>-31539</td>\n",
       "      <td>WGN</td>\n",
       "      <td>2423.0</td>\n",
       "      <td>bruin</td>\n",
       "      <td>0</td>\n",
       "      <td>0</td>\n",
       "      <td>-</td>\n",
       "      <td>-1.000095</td>\n",
       "    </tr>\n",
       "    <tr>\n",
       "      <th>9</th>\n",
       "      <td>473382</td>\n",
       "      <td>HVN</td>\n",
       "      <td>54.0</td>\n",
       "      <td>hamer</td>\n",
       "      <td>0</td>\n",
       "      <td>16</td>\n",
       "      <td>P</td>\n",
       "      <td>15.010845</td>\n",
       "    </tr>\n",
       "  </tbody>\n",
       "</table>\n",
       "</div>"
      ],
      "text/plain": [
       "         A    B       C       D  E   F  G  Years_Since_1970\n",
       "0  1104534  ZTR     0.1   anijs  2  36  T         35.024543\n",
       "1   631148  ESE   132.0  rivier  0  21  S         20.013572\n",
       "2       -3  WGN    71.0   appel  0   1  -         -0.000095\n",
       "3  1262300  ZTR    56.0     zes  2  41  T         40.027270\n",
       "4   315529  HVN  1290.0   hamer  0  11  -         10.005359\n",
       "5   788914  ASM   676.0  zwaluw  0  26  T         25.016299\n",
       "6   157762  HVN  9482.0     wie  0   6  -          5.002600\n",
       "7   946681  DHG    42.0    rond  1  31  T         30.019058\n",
       "8   -31539  WGN  2423.0   bruin  0   0  -         -1.000095\n",
       "9   473382  HVN    54.0   hamer  0  16  P         15.010845"
      ]
     },
     "execution_count": 41,
     "metadata": {},
     "output_type": "execute_result"
    }
   ],
   "source": [
    "data['Years_Since_1970'] = data['A']/(365*24*3600)*1000\n",
    "data"
   ]
  },
  {
   "cell_type": "markdown",
   "metadata": {},
   "source": [
    "Now we can create a model for this more meaningful column:"
   ]
  },
  {
   "cell_type": "code",
   "execution_count": 42,
   "metadata": {
    "collapsed": false
   },
   "outputs": [
    {
     "data": {
      "text/plain": [
       "Intercept           1.000269\n",
       "Years_Since_1970    0.999319\n",
       "dtype: float64"
      ]
     },
     "execution_count": 42,
     "metadata": {},
     "output_type": "execute_result"
    }
   ],
   "source": [
    "# create a fitted model in one line\n",
    "lm2 = smf.ols(formula='F ~ Years_Since_1970', data=data).fit()\n",
    "\n",
    "# print the coefficients\n",
    "lm2.params"
   ]
  },
  {
   "cell_type": "markdown",
   "metadata": {},
   "source": [
    "The formula the model describes for predicting F based on the Years_Since_1970 is:\n",
    "\n",
    "F = 1 + 1 * Years_Since_1970."
   ]
  },
  {
   "cell_type": "markdown",
   "metadata": {},
   "source": [
    "Predicting a new value for say 2017 - or 47 years since 1970:"
   ]
  },
  {
   "cell_type": "code",
   "execution_count": 43,
   "metadata": {
    "collapsed": false
   },
   "outputs": [
    {
     "data": {
      "text/plain": [
       "array([ 47.9682448])"
      ]
     },
     "execution_count": 43,
     "metadata": {},
     "output_type": "execute_result"
    }
   ],
   "source": [
    "X_2017 = pd.DataFrame({'Years_Since_1970': [47]})\n",
    "X_2017.head()\n",
    "lm2.predict(X_2017)"
   ]
  },
  {
   "cell_type": "markdown",
   "metadata": {},
   "source": [
    "So the predicted value for 2017 turns out to be 48.\n",
    "\n",
    "And indeed - in 2017 I will turn 48. This model pretty accurately predicts the age I reach in a given year. It fails for years prior to 1969 and probably for years in the far future."
   ]
  }
 ],
 "metadata": {
  "kernelspec": {
   "display_name": "Python 3",
   "language": "python",
   "name": "python3"
  },
  "language_info": {
   "codemirror_mode": {
    "name": "ipython",
    "version": 3
   },
   "file_extension": ".py",
   "mimetype": "text/x-python",
   "name": "python",
   "nbconvert_exporter": "python",
   "pygments_lexer": "ipython3",
   "version": "3.6.0"
  }
 },
 "nbformat": 4,
 "nbformat_minor": 2
}
